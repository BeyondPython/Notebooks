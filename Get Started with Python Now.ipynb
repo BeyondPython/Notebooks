{
 "cells": [
  {
   "cell_type": "markdown",
   "metadata": {},
   "source": [
    "# Python for the Office\n",
    "_No downtime - just results_\n",
    "\n",
    "\n",
    "Here is a glimpse at the content within _Python for the Office_! This preview allows you to directly contribute to the development of the tools featured inside both the ebook and web resources. This oppurtunity to provide feedback will help shape the production product. We hope to share this adventure with you! <a href=\"mailto:office@pythonfortheoffice.com?Subject=Python%20Feedback\">Email us!</a>\n",
    "\n",
    "Here is what we are going to tackle:\n",
    "\n",
    "- Part 1: **Installation** Here we'll look at how installation can be completed in a few minutes - not an entire day. We will quickly walk you through installing Python with the Anaconda distribution.\n",
    "\n",
    "- Part 2: **Beginner's Guide to Plotting** Instantly start creating plots from an excel file! This tutorial will immediately teach you how to load a simple dataset and then use the powerful `pandas` module to quickly create plots. This section is an example of how the material in the full ebook will be presented.\n",
    "\n",
    ">In part 2 we assume that you have no prior knowledge of Python and no experience programming. If you've already been plotting with `pandas` then feel free to skim this section and move on to the advanced plotting tutorial.\n",
    "\n",
    "- Part 3: **Make Awesome Plots!** This section will dive into a more complex dataset and show how to quickly produce great looking visualizations. We'll generate a heatmap and end it with an interactive plot. Descriptions will be shorter then in Part 2. This part is meant to provide you with some examples of what you will eventually be able to accomplish. Full ebook will expand on the topics presented in this section and a whole lot more!"
   ]
  },
  {
   "cell_type": "markdown",
   "metadata": {},
   "source": [
    "## Part 1: Installing Python\n",
    "\n",
    "We are going to be using python within the Anaconda environment. This is a package of python frameworks and working environment in a single, simple download. You won't be typing things into a command prompt. \n",
    "\n",
    "<img src=\"./anaconda_logo.png\" style=\"width: 400px;\"/>\n",
    "\n",
    "1. Visit [Anaconda's Download Page](https://www.anaconda.com/distribution/#windows), selecting your operating system and the latest Python 3 version.\n",
    "\n",
    "<img src=\"./anaconda_download.svg\" style=\"width: 350px;\"/>\n",
    "\n",
    "2. The recommended settings work best for its' userbase of 13 million Data Scientists, IT Professionals, and Business Leaders. Read each step of the installation process, but you should only need to click \"**Next**\".\n",
    "\n",
    "3. Once finished, you should be able to search for Anaconda and find a new application available **Anaconda Navigator**.\n",
    "\n",
    "4. Launching the *Jupter Notebook* will allow you to create a new folder and then a new Python3 notebook.\n",
    "\n",
    "If you are having any trouble confirming specific details, renaming that new folder you created, or seeing the Upload button, look for our detailed step-by-step process which includes images of each step here: [Beyond Python: How To Install Python Notebooks](https://www.beyondpython.com/article/how+to+install+python+notebooks)"
   ]
  },
  {
   "cell_type": "markdown",
   "metadata": {},
   "source": [
    "## Part 2: Beginner's Guide to Plotting\n",
    "\n",
    "Coding is supposed to be hard, right? Maybe you've tried taking an online course or read another book, but just never got anywhere with it. While some of those other resources are great, they aren't practical for the office professional that doesn't have time to dive into the nuiances of programming. Most resources for beginners start with topics like \"what are strings\", or even worse \"what are tuples\". This guide will get into those topics when you need them. Starting there just isn't practical.\n",
    "\n",
    "Let's start with something that can improve your workflow today. This is how you plot a chart:"
   ]
  },
  {
   "cell_type": "code",
   "execution_count": null,
   "metadata": {
    "scrolled": true
   },
   "outputs": [],
   "source": [
    "%matplotlib inline\n",
    "import pandas as pd\n",
    "\n",
    "datasheet = pd.read_excel('http://bit.ly/PyRandom-xls')\n",
    "datasheet.plot()"
   ]
  },
  {
   "cell_type": "markdown",
   "metadata": {},
   "source": [
    "You've just created your first plot in __4 lines of code!__ We'll break the code down so you'll understand how it works, but hopefully this will help you understand our approach to teaching you python. Start working with it now, figure out the details as you go.\n",
    "\n",
    "Remember the steps in Excel: Open the data, select some columns, insert a chart, find where that chart went, never sort your data, and then fight when Excel has set the axes wrong. Let's breakdown a better way."
   ]
  },
  {
   "cell_type": "markdown",
   "metadata": {},
   "source": [
    "### Your First Chart\n",
    "\n",
    "So, it's kinda a small plot, and missing a title and axis labels. We'll fix that shortly, but for now hopefully you are amazed at how easy this was. Before we make this plot beautiful, a bit of explanation is required.\n",
    "\n",
    "```python\n",
    "%matplotlib inline\n",
    "```\n",
    "\n",
    "This first statement is a bit complicated to get into. That \"`%`\" sign at that start of the line makes this a magic command. Magic commands help configure your jupyter notebook. No worries about all the details, this line above simply tells the notebook to display the plot inline, below the box of code. Without this line the plot may show up in another window (or not at all, depends on your browser configuration). A good rule of thumb is that if you are plotting, then just add this line as the first line of code in your notebook. We'll dive into more magic commands in the book, they are magic because they tend to make your work so much easier!\n",
    "\n",
    "```python\n",
    "import pandas as pd\n",
    "```\n",
    "\n",
    "Here we add the pandas module for use within our notebook. Pandas is a popular framework for doing almost any kind of work with data. Think of pandas as your replacement for excel. The `as pd` part of the line simply adds an alias. Now instead of using the module's fullname, we can use a shortened `pd`. Coders use alias' to simplify their code. Many of the common modules used in python will have well known alias'. To follow the convention used by other coders, we recommend that you always import pandas as pd. Just be aware that these two code snippets will function the same:\n",
    "\n",
    "```python\n",
    "import pandas\n",
    "datasheet = pandas.read_excel('http://bit.ly/PyRandom-xls')\n",
    "```\n",
    "\n",
    "```python\n",
    "import pandas as pd\n",
    "datasheet = pd.read_excel('http://bit.ly/PyRandom-xls')\n",
    "```\n",
    "\n",
    "```python\n",
    "datasheet.plot()\n",
    "```\n",
    "\n",
    "This last line is where the interesting stuff happens. We've defined the data in the excel spreadsheet as \"`datasheet`\" in the code. By reading the data using the pandas module (`pd.read_excel()`), it was automatically stored as a pandas dataframe. The easiest way to picture this is to think of the pandas dataframe as Python's version of excel. The dataframe is an extremely powerful data structure that simplifies working with almost any type of data. One of the main benefits of using the dataframe is that it has a lot of built in functions, such as plotting. Our full ebook will be diving into other functions of the dataframe and other plotting modules, but in a majority of cases the built-in plotting of the dataframe is good enough for initial analysis.\n",
    "\n",
    "So what actually happened when that line of code ran? The variable `datasheet` is a dataframe. `plot()` is a function built into the pandas dataframe. By typing `datasheet.plot()` we've said to run the `plot()` function on the `datasheet` dataframe. In this case you may have noticed that a legend was automatically added to the plot. This is because the pandas dataframe was built to simplify your work. Headers were found in the file and pandas automaticlally populates the legend with those headers."
   ]
  },
  {
   "cell_type": "markdown",
   "metadata": {},
   "source": [
    "### Labels, Titles, and Formatting \n",
    "\n",
    "Making the plot above is relatively easy, but it certainly isn't the prettiest plot. Adding some formatting is critical for a good visualization. Luckily, this is straigtforward in Python. As you practice plotting, you'll tend to have many of the basic formatting commands memorized. As you're own projects mature, you'll even want to possibly build your own plotting module to automate a report.\n",
    "\n",
    "Below we'll focus on just quickly producing an acceptable plot. The full ebook will cover an example that will walk you through building your own plotting module.\n",
    "\n",
    "Here's some updates to those 4 lines of code for that first plot:"
   ]
  },
  {
   "cell_type": "code",
   "execution_count": null,
   "metadata": {
    "scrolled": false
   },
   "outputs": [],
   "source": [
    "%matplotlib inline\n",
    "import pandas as pd\n",
    "import matplotlib.pyplot as plt\n",
    "\n",
    "datasheet = pd.read_excel('http://bit.ly/PyRandom-xls')\n",
    "datasheet.plot(figsize=(14,10), fontsize=14, grid=True)\n",
    "plt.title('Random Data for Plotting Example', fontsize=18)\n",
    "plt.ylabel('Units (arb.)', fontsize=14)\n",
    "plt.xlabel('Index (arb.)', fontsize=14)\n",
    "plt.legend(fontsize=14);"
   ]
  },
  {
   "cell_type": "markdown",
   "metadata": {},
   "source": [
    "Now that's a lot better! The chart is larger, axes are labled, and the text is readable.\n",
    "\n",
    "First change to note is the additional import statement:\n",
    "\n",
    "```python\n",
    "import matplotlib.pyplot as plt\n",
    "```\n",
    "\n",
    "This time we need to import a plotting module. Note that the first example also used `matplotlib.pyplot`, but since pandas handled all the formatting, there was no need to import the `plt` module directly. We'll come back to this below.\n",
    "\n",
    "Next is the call to the `plot()` function. There are some additional instructions that weren't there before.\n",
    "\n",
    "```python\n",
    "datasheet.plot(figsize=(12,8), fontsize=14, grid=True)\n",
    "```\n",
    "Those added variables inside of the parantheses are called arguments. `figsize`, `fontsize`, and `grid` are arguments that we've decided to manually configure this time. In the first example we just let pandas use the default values. Most arguments are relatively self explanatory. Here we've set the figure size (note that it is `(width,height)` in units of inches), the font size of the x and y tick labels, and enable the grid lines. Functions such as `plot()` have many arguments that can be set to improve your plots. How do you know which arguments are available? An easy way is to just check the reference documentation. Type `pandas plot` into google and the first result will be the documentation for the pandas plot function:\n",
    "\n",
    "<img src=\"./pandas_dataframe_plot.png\" style=\"width: 85%;\"/>\n",
    "\n",
    "Don't worry about all the options for know. The important thing to know is that functions tend to have arguments and being able to look them up is an important skill for being able to work with various modules.\n",
    "\n",
    "```python\n",
    "plt.title('Random Data for Plotting Example', fontsize=18)\n",
    "plt.ylabel('Units (arb.)', fontsize=14)\n",
    "plt.xlabel('Index (arb.)', fontsize=14)\n",
    "plt.legend(fontsize=14);\n",
    "```\n",
    "\n",
    "These four lines are the other formatting options that were added to the plot for readability. This time we are using the `plt` alias to run functions from the `matplotlib.pyplot` module. These functions are self-explanatory. We're adding a title, x axis label, and y axis label. As mentioned with the `plot()` function above, there are also a couple of arguments for each of these. The arguments are the text that should be displayed and the font size to use. Lastly, the fontsize was also updated for the legend to improve readability. Note that `plt.legend()` could be used to create the legend or change the legend labels, but the dataframe `plot()` function took care of that for us so we only used the fontsize argument here.\n",
    "\n",
    "There might be something bothering you about these last four lines, if so then great! You're paying attention. When we called the `plot()` function, it was used on a variable that we created. `datasheet.plot()` works, but `pd.plot()` would not have worked. So why does `plt.xlabel()` work? A variable was never defined for the `plt` module. This works because the creators of matplotlib.pyplot were trying to mimic the command style behavior that people are familar with in MATLAB. In the background, the matplotlib.pyplot keeps track of the current figure. After calling `datasheet.plot()`, a reference to that figure was created and any call using `plt` will operate on the current figure. Defining the current figure explicitly is possible, but isn't necessary in this simple example. We'll take a look at a case where it is necessary in the next example.\n",
    "\n",
    "Last note is that `;` at the end of the last line. The semicolon here isn't necessary, it just cleans up the output. Feel free to try running this code yourself and delete the semicolon. You'll see an output similar to this: `<matplotlib.legend.Legend at 0x7fcdf36feb38>`. The code at the end will be different for you. This is the return of the `plt.legend()` function. In the jupyter notebook, the last function will print to the output if left unassigned. The semicolon is just an easy way to supress this output."
   ]
  },
  {
   "cell_type": "markdown",
   "metadata": {},
   "source": [
    "### Subplots\n",
    "\n",
    "So far we haven't really done anything that isn't relatively easy to do in excel. Hopefully you have found plotting with Python to be easier then you imagined and may even see this as being easier then working with excel (we at Python for the Office certainly do!).\n",
    "\n",
    "Let's look at something that would be much more challenging to quickly do in excel, yet Python can pull off with ease. Sometimes plotting all of your datasets on one plot can be messy and creating seperate plots is the best option. Python allows you to quickly try differing plotting styles with minimum effort. Below we'll take a look at creating subplots."
   ]
  },
  {
   "cell_type": "code",
   "execution_count": null,
   "metadata": {},
   "outputs": [],
   "source": [
    "%matplotlib inline\n",
    "import pandas as pd\n",
    "import matplotlib.pyplot as plt\n",
    "\n",
    "datasheet = pd.read_excel('http://bit.ly/PyRandom-xls')\n",
    "axes = datasheet.plot(subplots=True, figsize=(12,8), fontsize=14, grid=True)\n",
    "plt.suptitle('Random Data for Plotting Example', fontsize=18)\n",
    "plt.xlabel('Index (arb.)', fontsize=14)\n",
    "\n",
    "for ax in axes:\n",
    "    ax.set_ylabel('Units (arb.)', fontsize=14)\n",
    "    ax.set_ylim(bottom=0, top=2)\n",
    "    ax.legend(fontsize=14)"
   ]
  },
  {
   "cell_type": "markdown",
   "metadata": {},
   "source": [
    "Isn't that awesome! If you don't think that is awesome then please go and try that in excel and rethink your reaction. Of course, this is a really simple random data set, but this should give you a glimpse into how powerfult plotting can be with minimal effort in Python.\n",
    "\n",
    "There are a few new lines of code here that should be explained.\n",
    "\n",
    "```python\n",
    "axes = datasheet.plot(subplots=True, figsize=(12,8), fontsize=14, grid=True)\n",
    "```\n",
    "We did something different with the plot function this time. First, we adding an argument for `subplots`. That is all that was needed to create the three individual plots above. The rest of this example is just formatting. Second, we assigned the output of the `datasheet.plot()` function to a variable called `axes`. This is because we are now working with multiple plots. Above we mentioned that matplotlib.pyplot keeps track of the current figure in the background. In this case it has managed to keep track of the current figure, but that figure now has three plots. If we are trying to format the plots, we need to start keeping track of them ourself.\n",
    "\n",
    "Let's take a look at what the `axes` variable is by printing it to an output:"
   ]
  },
  {
   "cell_type": "code",
   "execution_count": null,
   "metadata": {},
   "outputs": [],
   "source": [
    "axes"
   ]
  },
  {
   "cell_type": "markdown",
   "metadata": {},
   "source": [
    "This is our first look at an array. `axes` is simply a 3 element array where each element is a reference to the individual plots in our figure.\n",
    "\n",
    "```python\n",
    "plt.suptitle('Random Data for Plotting Example', fontsize=18)\n",
    "```\n",
    "\n",
    "The title command had a slight modification. The function is now called `suptitle` instead of just `title`. This is because we are now working with subplots. `title` can still be set, but that will set the individual title of each subplot. Here we simply want to label the figure with a title which can be done with `suptitle` (this is short for super title).\n",
    "\n",
    "The last new addition to our example is the for loop. Loops are a fundamental element of all programming languanges and is truly one of the most useful controls in programming. \n",
    "\n",
    "```python\n",
    "for ax in axes:\n",
    "    do something\n",
    "    ```\n",
    "\n",
    "For loops in python try to mimic language. In this example, `for ax in axes` simply states that for each element in axes we want to do something. Each iteration of the loop will access the next item in `axes` and assign it to the variable `ax`. Recall that `axes` is simple a list of references to each plot in the figure. So this for loop will be used to do something to each plot.\n",
    "\n",
    "```python\n",
    "ax.set_ylabel('Units (arb.)', fontsize=14)\n",
    "```\n",
    "The first action is to add the y axis labels. Note that we were able to use the same call for the x axis labels as we used in the last example because the x axis in this example is shared between all the plots. That means we can use the reference to `plt` to set the x axis label. For each iteration of the loop, the y axis label will be set. Also note that the function is no longer just `ylabel()`, but has changed to `set_ylabel()`. This is because of the `ax` object is different from the `plt` object and has different functions. We won't dive into this here, but just be aware that when working with axis the functions are different from the figure functions. This topic can be confusing for beginners. While this is out of the scope of this guide, this is a topic that will be covered in the full ebook.\n",
    "\n",
    "```python\n",
    "ax.set_ylim(bottom=0, top=2)\n",
    "```\n",
    "\n",
    "Lastly, there is a function call added to change the y axis limits. The default plotting style is to have the y limits automatically set by the data range, but have difference scales for each data set will make visual comparisons challenging. Therefore, by setting each plot to have the same y axis limits, we have made it much easier to see the differences in the datasets. "
   ]
  },
  {
   "cell_type": "markdown",
   "metadata": {},
   "source": [
    "## Part 3: Make Awesome Plots!\n",
    "\n",
    "So far we've shown you that Python is probably easier then you imagined. Learning Python should no longer seem like a time consuming challenge that provides a benefit sometime in the future. The short segments of code above can be used to help you today (or at least the next time you need to make a plot)! \n",
    "\n",
    "These simple plots aren't really the focus of Python for the Office. We want to teach you how to automate your workflow and generate visualizations that will better serve you, your team, or your clients. Part 3 of this introductory material will look at some of the advanced plots that are easy to create and understand using Python.\n",
    "\n",
    "In this section the explanations will be shorter. While Part 2 was an example of the material and style of the full ebook, this part is meant to present a few of the more advanced plots that you'll be able to create with a bit more learning. We still try to make the code below understandable and build off of the material presented in Part 2. While these plots certainly look more complicated then the ones above, they really aren't that much harder to create!\n",
    "\n",
    "Below, a variety of plots will be created using a couple of the most popular Python modules. The code in Part 3 will be more complex than in Part 2, and the descriptions will not be as detailed. Part 3 is meant to provide you with an idea of what is possible. The full ebook will teach you how to make these plot and many more!"
   ]
  },
  {
   "cell_type": "markdown",
   "metadata": {},
   "source": [
    "###  Distributions and Correlations\n",
    "\n",
    "The first set of plots that we'll take a look at are distribution plots. A common analysis for a univariate dataset is to plot a histogram or density plot. A histogram cuts the data into multiple bins and displays a count of the number of values in each bin. Density plots are similar to histograms, but instead of bins they show a continuous distribution of the data.\n",
    "\n",
    "While this is a common plotting techniuqe, trying this is excel can be troublesome. In excel you'll likely need the data analysis add-in and then you'll need to define your own bins. Python has modules, such as `seaborn`, that provide an incredibly easy way to generate a histogram with a density estimate in one plot. \n",
    "\n",
    "The dataset being used for this topic is an engineering dataset. A problem for many engineers is controlling or tuning a process. In this case we are going to review the output of a nanoparticle image analysis. You don't need to worry about what the data is because this section is meant to showcase some plots, but having some idea of what the data is used for may help with understanding the purpose of the plots.\n",
    "\n",
    "One method of forming silver (Ag) nanoparticles is to deposite a thin layer (<30nm) of Ag onto a substrate and then place the sample in an oven at about 200C. The Ag films will coalesce into nanoparticles. Characterizing the size and shape of those nanoparticles is important for controlling the process.\n",
    "\n",
    "The data contains the results from six different experiments. Two substrates were used, Indium Tin Oxide (ITO) and amorphous silicon (a-Si). On each substrate, three different film thicknesses were deposited.\n",
    "\n",
    "This leads to two questions:\n",
    "1. Does the substrate have an impact on the nanoparticle formation?\n",
    "2. Does the Ag thickness have an impact on the nanoparticle formation?\n",
    "\n",
    "Answering these questions can help an engineer refine their process.\n",
    "\n",
    "First, lets import a few modules that we want to use and load the data:"
   ]
  },
  {
   "cell_type": "code",
   "execution_count": null,
   "metadata": {},
   "outputs": [],
   "source": [
    "%matplotlib inline\n",
    "\n",
    "# matplotlib is the main plotting library and\n",
    "#   is needed to help with formatting the figures\n",
    "import matplotlib.pyplot as plt\n",
    "\n",
    "# Pandas is the dataframe we use to store and work with the data\n",
    "import pandas as pd\n",
    "\n",
    "# Seaborn is a powerful plotting library built on matplotlib.pyplot\n",
    "import seaborn as sns\n",
    "\n",
    "# Note: Warnings is being imported to help clean up the output\n",
    "#      This module doesn't generally need to be imported\n",
    "import warnings; warnings.simplefilter('ignore')\n",
    "\n",
    "\n",
    "nanodata = pd.read_excel('http://bit.ly/PyNanoParticle-xls')"
   ]
  },
  {
   "cell_type": "markdown",
   "metadata": {},
   "source": [
    "There are two new topics that should be discussed before moving on. There is a new module being used called `seaborn` and there are these weird lines starting with `#`.\n",
    "\n",
    "`seaborn` is a plotting library built on top of `matplotlib.pyplot` and you should have noticed that we are using an alias. `sns` is the common alias used for the `seaborn` module. This module tends to make advanced plotting a piece of cake. This module also works very well with the pandas dataframe, as will be presented below.\n",
    "\n",
    "So how about those hashtags? Those represent a one line comment. Any text on a line of code that comes after `#` is a comment and will not be run as code. Comments are simply to help others understand your code and for you to remember what you did when you come back to a piece of code after 3 months (trust me, that happens a lot and you'll hate yourself for not using more comments). Always comment your code! The comments in this section are a bit of overkill. Once you learn more about Python, there isn't a need to have a comment for every import or every function call. Comments tend to be most important for explaning the purpose of a section of code or to mention why code was written in a certain way. This section, and the code in our ebook, will be heavily commented to help with the learning process.\n",
    "\n",
    "There are multiple types of comments that can be used in Python. The first is the hashtag used above:\n",
    "```python\n",
    "#This is a comment\n",
    "```\n",
    "\n",
    "Note that the hastag does not have to be at the start of the line. You can place the comment at the end of a line of code.\n",
    "\n",
    "```python\n",
    "datasheet.plot() #This is a comment\n",
    "```\n",
    "\n",
    "The `datashet.plot()` is from our first example in part 2, but this time we added a comment on the end. Even though there is a comment on the line, the plot will still be created. Note that the rule is that everything after the `#` is a comment, so if we had the line shown below, the plot would not work.\n",
    "\n",
    "```python\n",
    "#This is a comment datasheet.plot()\n",
    "```\n",
    "Lastly, the `#` is used for single line comments. As was done in import code above, each line of a comment started with a `#`. A multiline comment can also be created by using the three single quotes closed by another three single quotes:\n",
    "\n",
    "```python\n",
    "'''\n",
    "This is a multiline comment. More lines \n",
    "of text can be added until there are \n",
    "another 3 single quotes.\n",
    "'''\n",
    "```"
   ]
  },
  {
   "cell_type": "markdown",
   "metadata": {},
   "source": [
    "#### Violin Plot\n",
    "\n",
    "We've started with a few import statements to prepare for reading and plotting the data. So far not much has happened except for that extremely simple call to load the data with `pd.read_excel()`.\n",
    "\n",
    "The first plot that we'll create is a violin plot. There are several groups of data due to the different substrates and Ag thicknesses, and a violin plot provides an easy way to quickly view the distribution of a single variable for each group."
   ]
  },
  {
   "cell_type": "code",
   "execution_count": null,
   "metadata": {},
   "outputs": [],
   "source": [
    "# Create a new figure and set the figure size\n",
    "plt.figure(figsize=(14,8))\n",
    "# Create the violin plot using seaborn (sns)\n",
    "sns.violinplot(x=\"Ag Thickness (nm)\", y=\"Feret Diameter (nm)\", \n",
    "               hue=\"Substrate\", data=nanodata, split=True)\n",
    "\n",
    "plt.title('Nanoparticle Diameter Distributions', fontsize=20);"
   ]
  },
  {
   "cell_type": "markdown",
   "metadata": {},
   "source": [
    "Just as in Part 2 of this guide, the plotting was done is a single command! There are a couple of formatting instructions, but the majority of the work was done by using `seaborn` (aliased as `sns`). One of the handy features of seaborn is it's ability to automatically add labels. In this case the X and Y axes are labeled appropriately because the data columns have descriptive headers. Even better is that a legend for the two different substrates being analyzed was automatically added.\n",
    "\n",
    "Let's breakdown this command a bit:\n",
    "```python\n",
    "sns.violinplot(x=\"Ag Thickness (nm)\", y=\"Feret Diameter (nm)\", \n",
    "               hue=\"Substrate\", data=nanodata, split=True)\n",
    "```\n",
    "`data=nanodata` is the main focus here. We've said that the data that we want to use for the plot is in nanodata. A plot would be created even if you only had this argument in the `sns.violinplot()`. In that case, `seaborn` does its best to create a plot, but if you have too many columns like in the `nanodata`, then the plot won't be all that useful. So we give seaborn a bit more information to select the data that we want to see, by passing these arguments:\n",
    "```python\n",
    "x=\"Ag Thickness (nm)\", \n",
    "y=\"Feret Diameter (nm)\", \n",
    "hue=\"Substrate\"\n",
    "```\n",
    "Seaborn will automatically select those columns from the dataframe for the correct axes. `x` and `y` are pretty self explanatory, but the `hue` parameter is a bit more special. This is one of those features that really makes seaborn stand out as a powerful plotting module. By setting `hue=\"Substrate\"` we've told seaborn to group the data by the substrate column. That means our `nanodata` dataframe will be grouped by the unique values in the Substrate column, which are _ITO_ and _a-Si_. \n",
    "\n",
    "The last argument is `split=True` and is just there to improve readability. Go ahead, delete that argument and see what happens. You'll simply get 6 separate violin plots instead of the side-by-side configuration above.\n",
    "\n",
    "What did we learn from the violin plot? Two things:\n",
    "1. As the Ag Film Thickness increases, the nanoparticle diameter also increases.\n",
    "2. The ITO substrate has a wider (i.e. less controllable) distbution then the a-Si substrate.\n",
    "\n",
    "With just a few lines of code it was easy to quickly learn something about the data (and have a nice graphic for the boss!)."
   ]
  },
  {
   "cell_type": "markdown",
   "metadata": {},
   "source": [
    "#### Correlation Matrix\n",
    "\n",
    "The next plot is an amazing tool for exploratory data analysis. When starting with a new dataset you may need to quickly identify relationships between variables. A correlation matrix (aka correlogram) allows for the visualization of the interaction between pairs of variables. \n",
    "\n",
    "Seaborn provides a function to quickly produce a correlation matrix called `pairplot()`. This function will create a visualizations to show pairwise relationships between variables."
   ]
  },
  {
   "cell_type": "code",
   "execution_count": null,
   "metadata": {},
   "outputs": [],
   "source": [
    "#Create the pair plot using seaborn (sns)\n",
    "sns.pairplot(data=nanodata[nanodata['Substrate']=='a-Si'], \n",
    "             vars=['Feret Diameter (nm)', 'Area', 'Circ.', 'Perim.'], \n",
    "             hue='Ag Thickness (nm)');"
   ]
  },
  {
   "cell_type": "markdown",
   "metadata": {},
   "source": [
    "With one function we've created a matrix of plots! There's even some pretty amazing features going on here. \n",
    "\n",
    "The data was first simplified by just selecting the _a-Si_ substrate data.  \n",
    "\n",
    "```python\n",
    "nanodata[nanodata['Substrate']=='a-Si']\n",
    "```\n",
    "This is an indexing (or slicing) operation. The data has two many variables to plot with a single `pairplot`, so we've reduced the dimension. Remember that the two main experimental factors are _Ag Thickness (nm)_ and _Substrate_. By selecting only _Substrate=a-Si_, the number of factors has been reduced to only _Ag Thickness (nm)_.\n",
    "\n",
    "Indexing is an important part of dealing with data and this is a basic example of how to select a subset of the data. Indexing, grouping, and pivoting are critical tools when working with data and those topics will be an important part of the full ebook.\n",
    "\n",
    "`vars` is a new argument and is simply stating which variables we want to use for the pairwise comparisons. This argument can be left blank and seaborn will add plots for all columns in the dataframe, but those tend to be hard to read because of how much data there is. So by defining a list of columns for `vars`, we've simply reduced the number of plots to create. \n",
    "\n",
    "Lastly is the `hue` argument and this serves the same purpose as in the vilon plot above. By defining `hue='Ag Thickness (nm)'`, each film thickness is displays as a different color. Not only can we see the pairwise relationship between variables, but we can also see that same relationship across the main groups in the data!\n",
    "\n",
    "This is also the first time that a data slicing operation was used. \n",
    "\n",
    "_Note:\n",
    "This time there is no call  to create and set the size of the figure like there was with the violin plot. This is simply because the pair plot is generated with a larger figure size and manually setting it is unnecessary in this case. The command wasn't needed with the violin plot either, but due to the figure being small, it was desireable to increase the size before plotting._"
   ]
  },
  {
   "cell_type": "markdown",
   "metadata": {},
   "source": [
    "#### Distribution Plot with Style\n",
    "\n",
    "The last plot we'll look at with this dataset is a distribution plot with some extra formatting. The critical topic with this data is that we need to understand the distribution of the nanoparticle diameter under the various conditions. So lets create a clean looking plot that clearly shows diameter versus the experimental groups."
   ]
  },
  {
   "cell_type": "code",
   "execution_count": null,
   "metadata": {},
   "outputs": [],
   "source": [
    "# Create the figure and axis handles\n",
    "fig, (ax1, ax2) = plt.subplots(1,2, figsize=(16,6))\n",
    "\n",
    "# To simplify the code, grab subsets of the data for each axis\n",
    "# This is the same indexing used in the pairplot example\n",
    "aSi = nanodata[nanodata['Substrate'] == 'a-Si']\n",
    "ito = nanodata[nanodata['Substrate'] == 'ITO']\n",
    "\n",
    "# Set the title for the first axis\n",
    "ax1.set_title('Ag Directly on a-Si', fontsize=14)\n",
    "# Loop over a parameter to create individual distributions\n",
    "for name, group in aSi.groupby('Ag Thickness (nm)'):\n",
    "    sns.distplot(group['Feret Diameter (nm)'], \n",
    "                 label=(str(name) + 'nm Ag'), ax=ax1)\n",
    "\n",
    "# Set the title for the second axis\n",
    "ax2.set_title('10nm ITO Between Ag and a-Si', fontsize=14)\n",
    "# Loop over a parameter to create individual distributions\n",
    "for name, group in ito.groupby('Ag Thickness (nm)'):\n",
    "    sns.distplot(group['Feret Diameter (nm)'], \n",
    "                 label=(str(name) + 'nm Ag'), ax=ax2)\n",
    "\n",
    "\n",
    "# Plot Formatting\n",
    "\n",
    "# Add a main title for the figure\n",
    "fig.suptitle('Nanoparticle Size Distributions', fontsize=20)\n",
    "\n",
    "# For both axes, add a legend and change the limits to improve viewing\n",
    "for ax in [ax1, ax2]:\n",
    "    ax.legend(frameon=True, fontsize=14)\n",
    "    ax.axis([0, 300, 0, 0.03])\n",
    "    ax.grid(True)\n",
    "\n",
    "# Make the text larger to improve readability\n",
    "plt.rcParams.update({'font.size': 14})"
   ]
  },
  {
   "cell_type": "markdown",
   "metadata": {},
   "source": [
    "Now we're ready for a presentation! This is a clean looking plot with a lot of data. Be sure to read the comments in the code. This time we won't walk through every command, but the comments should provide useful tips.\n",
    "\n",
    "```python\n",
    "fig, (ax1, ax2) = plt.subplots(1,2, figsize=(16,6))\n",
    "```\n",
    "This command should look familar. It is similar to the plt.figure() command. This time we used `subplots` to create 2 plots in the same figure. This argument says that we want `1` row and `2` columns, then the last argument is our standard `figsize`. Unlike in previous examples, we assigned the output of this command to a few variables. The earlier examples simply called `plt.figure()` and the output was ignored. Remember how in Part 2 we mentioned that matplotlib.pyplot will keep track of the current figure for you? Well this time we are doing something a bit more complex and we need to keep track of the figure and axes ourselves. Understanding how to create, store, and manage your axes is a topic that will be covered in much more detail in the ebook. For now just now that the line of code above allows use to access the two plots that are created in the figure.\n",
    "\n",
    "```python\n",
    "for name, group in aSi.groupby('Ag Thickness (nm)'):\n",
    "    do something\n",
    "```\n",
    "\n",
    "Here we've encounted another `for` loop. This `for` loop is much more exciting then the first one because we are using one of the most useful features of `pandas` and that is the `groupby()` function. Similar to how `hue` worked in the earlier seaborn examples, the `groupby()` command will separate the dataframe by the unique values in the entered column. So by using `groupby('Ag Thickness (nm))`, we are creating subsets of the data for each value in _Ag Thickness (nm)_. The ebook will contain examples of how these dataframes are segmented to help provide a visual understanding of how function like `groupby()` work. \n",
    "\n",
    "The `groupby()` function can then be used with a `for` loop to do an operation on each group of data. When using `groupby()` in this manner, it will return a `name` and the `group`. The name is simply the value of the specified column for the group and the `group` is the subset of data.\n",
    "\n",
    "So if `6`,`8`, and `10` are the unique values in the _Ag Thickness (nm)_ column, then here is an example of the values for one iteration of the for loop where the group is for _Ag Thickness (nm)_=6:\n",
    "\n",
    "```python\n",
    "name=6\n",
    "group=aSi[aSi['Ag Thickness (nm)'] == 6]\n",
    "```\n",
    "Notice that the group is simply a subset of the dataframe and is equivalent to using the indexing command presented earlier. As mentioned earlier, grouping, indexing, pivoting, and other data manipulation operations are an important part of analyzing data. These topics tend to be confusing for begineers. This guide isn't meant to provide a full description of these operations, but this is a topic that will be fully covered in the ebook.\n",
    "\n",
    "```python\n",
    "sns.distplot(group['Feret Diameter (nm)'], \n",
    "                 label=(str(name) + 'nm Ag'), ax=ax1)\n",
    "```\n",
    "Once again we've used seaborn to make plotting easy. Remember that the `group` variable is a subset of the `aSi` dataframe and by using `group['Feret Diameter (nm)]` we are selecting a single column for plotting. The `distplot()` function doesn't need the `data=` that we used earlier because there is only one variable being plotted. We've also added the `ax=ax1` to tell Python which plot to put the data in. Notice that the next for loop uses `ax=ax2`. Lastly, this time we had to modify the label for readability.\n",
    "\n",
    "```python\n",
    "label=(str(name) + 'nm Ag')\n",
    "```\n",
    "The `label` is what will show up in the legend. Here we've built our own label from the `name` variable created by the loop. The `str()` command is a built-in Python function that will convert a number into a string and then we can simply add 2 strings together to make a new string. String operations are another important set of operations that will be covered in the full ebook.\n",
    "\n",
    "Lastly, is this new function:\n",
    "```python\n",
    "plt.rcParams.update({'font.size': 14})\n",
    "```\n",
    "\n",
    "We won't discuss how this function works here, but what should be known is that this will simply modify the font size on the plots built with `matplotlib.pyplot`. Remember that the `seaborn` and `pandas` plotting function are built on that library, so their font size will also change. This is a useful feature because the font size tends to be a bit small when building plots for presenting. So keep this command handy when you need to improve the readibility of all your plot labels and titles. Note that this command modifies the default font size, any font sizes that are explicity set, like the title in the above code, will not be modified."
   ]
  },
  {
   "cell_type": "markdown",
   "metadata": {},
   "source": [
    "All the plots above would generally take a lot of coding to make from scratch, or even to build from `matplotlib.pyplot`. The `seaborn` module takes a lot of the work out of creating complex plots. Labels were automatically added, legends created, and colors set. All of that was done behind the scenes. Of course we added a few minor formating changes ourselves, but the heavy lifting was done by `seaborn`. That's how it should be. Creating a plot for your data should be easy, then you'll have all the time you need to beautify it for your manager. \n",
    "\n",
    "Check out the [seaborn gallery](https://seaborn.pydata.org/examples/index.html) for more ideas."
   ]
  },
  {
   "cell_type": "markdown",
   "metadata": {},
   "source": [
    "#### Interacting with the Data\n",
    "\n",
    "Finally, we want to leave you with something that is a bit more advanced. Working in ipython notebooks allows you to quickly create a view a wide variety of incredibly useful plots. There are features beyond just the static plotting examples above. Let's conclude by adding something dynamic.\n",
    "\n",
    "Sorry! No detailed walkthrough on this example. There are some new modules being used and we created a function with the `def` statement. The main function here is that last call to `interact()`. The first argument `update` links the interact session to the `update` function that we defined. The second argument says to run `update` whenever the value of `year_widget` changes and send the new value to the `update` function.\n",
    "\n",
    "Hopefully the rest of this code is starting to look familar and hopefully the walkthroughs have made the code understandable. If you benefited from this guide then the ebook will have you building interactive plots like the one below and so much more!"
   ]
  },
  {
   "cell_type": "code",
   "execution_count": null,
   "metadata": {},
   "outputs": [],
   "source": [
    "%matplotlib inline\n",
    "import pandas as pd\n",
    "import matplotlib.pyplot as plt\n",
    "from ipywidgets import interact\n",
    "import ipywidgets as widgets\n",
    "\n",
    "coffeedata = pd.read_csv('ICO_CROP_DATA.csv')\n",
    "# Format the YEAR to be just the start of the production year\n",
    "coffeedata['YEAR'] = [int(x.split('/')[0]) for x in coffeedata['YEAR']]\n",
    "\n",
    "# Rename the columns that we know we are plotting for formatting\n",
    "coffeedata = coffeedata.rename(columns={\n",
    "                'DOMESTIC_CONSUMPTION':'Domestic Consumption',\n",
    "                'EXPORTABLE_PRODUCTION':'Exportable Production'})\n",
    "\n",
    "\n",
    "# Create a widget to allow for year selection\n",
    "year_widget = widgets.Dropdown(options=coffeedata['YEAR'].unique(), \n",
    "                               value=coffeedata['YEAR'].min(),\n",
    "                               description='Year')\n",
    "\n",
    "# Define a function to call when the year widget is changed\n",
    "def update(val):\n",
    "    # Select the data based on the year\n",
    "    tmp = coffeedata[coffeedata.YEAR == val]\n",
    "    # Filter out Brazil for viewing \n",
    "    # Brazil is produces a lot more then other countries\n",
    "    tmp = tmp[tmp.COUNTRY != 'Brazil']\n",
    "    # Plot the selected data with a stacked bar plot\n",
    "    tmp.plot(x='COUNTRY', y=['Exportable Production','Domestic Consumption'], \n",
    "             kind='bar', stacked=True, figsize=(14,6))\n",
    "\n",
    "    # Format the plot to make it more readable\n",
    "    ax = plt.gca()\n",
    "    ax.set_xlabel('')\n",
    "    ax.set_ylabel('Total Production')\n",
    "    ax.set_ylim(bottom=0, top=18000)\n",
    "    ax.legend(loc='upper right')\n",
    "    plt.title('Coffee Exports and Consumption by Country/nTotal')\n",
    "\n",
    "# Start the interactive plotting by using 'interact'\n",
    "# Interact will call the 'update' function whenever the\n",
    "#    value of the widget is changed. The value of the widget\n",
    "#    will be sent to 'update' as 'val'\n",
    "interact(update, val=year_widget);"
   ]
  },
  {
   "cell_type": "markdown",
   "metadata": {},
   "source": [
    "<img src=\"./interact_plot_example.png\" style=\"width: 100%;\"/>\n",
    "\n",
    "There it is! An interactive plot! We've added a simple piece of functionality that makes the data much easier to explore. We can now easily navigate through the years and see how coffee production has changed in each contry. We've even made this a stacked bar plot so we can quickly visualize which countries are exporting most of their coffee versus those that are consuming most of their coffee. "
   ]
  },
  {
   "cell_type": "markdown",
   "metadata": {},
   "source": [
    "# Thanks and Please Provide Feedback!\n",
    "\n",
    "Thanks for reading our short introduction to plotting with Python! If you've made it this far then you are probably interested in the material that we will be producing. Here at _Python for the Office_ we have a broad set of skills and can cover basically anything. We have an idea of what we believe will be most valuable to our readers, but hearing from you directly would be even better. If you have a topic that you are stuggling with, a file that you can't seem to work with, or even a dataset that just seem impossible to wrangle then please let us know. We want to provide you with useful and practical information so you can start using Python as soon as possible.\n",
    "\n",
    "office@pythonfortheoffice.com"
   ]
  }
 ],
 "metadata": {
  "authors": [
   {
    "name": "Dr. Chanse Hungerford"
   },
   {
    "name": "Matthew Yeager"
   }
  ],
  "kernelspec": {
   "display_name": "Python 3",
   "language": "python",
   "name": "python3"
  },
  "language_info": {
   "codemirror_mode": {
    "name": "ipython",
    "version": 3
   },
   "file_extension": ".py",
   "mimetype": "text/x-python",
   "name": "python",
   "nbconvert_exporter": "python",
   "pygments_lexer": "ipython3",
   "version": "3.7.3"
  }
 },
 "nbformat": 4,
 "nbformat_minor": 2
}
