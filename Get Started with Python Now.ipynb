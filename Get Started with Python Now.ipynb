{
 "cells": [
  {
   "cell_type": "markdown",
   "metadata": {},
   "source": [
    "# Python for the Office\n",
    "_No downtime - just results_\n",
    "\n",
    "\n",
    "Here is a glimpse at the content within _Python for the Office_! This preview allows you to directly contribute to the development of the tools featured inside both the ebook and web resources. This oppurtunity to provide feedback will help shape the production product. We hope to share this adventure with you! <a href=\"mailto:office@pythonfortheoffice.com?Subject=Python%20Feedback\">Email us</a> at office@pythonfortheoffice.com!\n",
    "\n",
    "\n",
    "Here is what we are going to tackle:\n",
    "\n",
    "- Part 1: **Python Installation**. Here we'll look at how installation can be completed in a few minutes - not an entire day. We will quickly walk you through running Python within a Jupyter Notebook.\n",
    "\n",
    "\n",
    "- Part 2: **Beginner's Guide to Plotting**. Instantly start creating plots from an excel file! This tutorial will immediately teach you how to load a simple dataset and then use the powerful `pandas` module to quickly create plots. This section is an example of how the material in the full ebook will be presented.\n",
    "\n",
    ">In Part 2 we assume that you have no prior knowledge of Python and no experience programming. If you've already been plotting with `pandas` then feel free to skim this section and move on to the advanced plotting tutorial.\n",
    "\n",
    "- Part 3: **Make Awesome Plots!** This section will dive into more complex datasets and show how to produce great looking visualizations. We'll look into variations in financial data and end it with an interactive plot.\n",
    "\n",
    ">In Part 3, descriptions will be shorter than in Part 2. This part is meant to provide you with some examples of what you will eventually be able to accomplish. The full ebook will expand on the topics presented in this section and a whole lot more!"
   ]
  },
  {
   "cell_type": "markdown",
   "metadata": {},
   "source": [
    "## Part 1: Installing Python\n",
    "\n",
    "We are going to be installing Python by using the Anaconda download. Anaconda is a package of Python frameworks and working environment in a single, simple download. You won't be typing things into a command prompt. \n",
    "\n",
    "1. Visit [Anaconda's Download Page](https://www.anaconda.com/distribution/#windows), pick your operating system, and download the latest Python 3 version.\n",
    "\n",
    "2. Read each step of the installation process, but the recommended settings should work best! You should only need to click \"**Next**\".\n",
    "\n",
    "3. Once finished, search for *Anaconda* and find a new application named **Anaconda Navigator**.\n",
    "\n",
    "4. Launching the *Jupyter Notebook* will allow you to create a new folder and then a new Python3 notebook.\n",
    "\n",
    "If you are having any trouble, then have a look at our detailed, step-by-step guide which includes images for each step. [Beyond Python: How To Install Python Notebooks](https://www.beyondpython.com/article/how+to+install+python+notebooks)"
   ]
  },
  {
   "cell_type": "markdown",
   "metadata": {},
   "source": [
    "### Follow along in the Jupyter Notebook\n",
    "You might find it easier to follow along reading this guide within a Jupyter Notebook. This allows you to run each cell already typed out for you. If you prefer to type through the code yourself then you always have the PDF version. [Interactive Jupyter Notebook](https://www.bit.ly/OfficeNotebook)\n"
   ]
  },
  {
   "cell_type": "markdown",
   "metadata": {},
   "source": [
    "## Part 2: Beginner's Guide to Plotting\n",
    "\n",
    "Coding is supposed to be hard, right? Maybe you've tried taking an online course or read another book, but just never got anywhere with it. While some of those other resources are great, they aren't practical for the office professional that doesn't have time to dive into the nuiances of programming. Most resources for beginners start with topics like \"what are strings\", or even worse \"what are tuples\". This guide will get into those topics when you need them. Starting there just isn't practical.\n",
    "\n",
    "Let's start with something that can improve your workflow today. This is how you plot a chart:"
   ]
  },
  {
   "cell_type": "code",
   "execution_count": null,
   "metadata": {
    "scrolled": true
   },
   "outputs": [],
   "source": [
    "%matplotlib inline\n",
    "import pandas as pd\n",
    "\n",
    "datasheet = pd.read_excel('http://bit.ly/PyRandom-xls')\n",
    "datasheet.plot()"
   ]
  },
  {
   "cell_type": "markdown",
   "metadata": {},
   "source": [
    "You've just created your first plot in __4 lines of code!__ We'll break the code down so you'll understand how it works, but hopefully this will help you see our approach to teaching you python. Start working with it now, figure out the details as you go.\n",
    "\n",
    "Remember the steps in Excel: Open the data, select some columns, insert a chart, find where that chart went, never sort your data, and then fight when Excel has set the axes wrong. Let's breakdown a better way."
   ]
  },
  {
   "cell_type": "markdown",
   "metadata": {},
   "source": [
    "### Your First Chart\n",
    "\n",
    "So, it's kinda a small plot, and missing a title and axis labels. We'll fix that shortly, but for now hopefully you are amazed at how easy this was. Before we make this plot beautiful, a bit of explanation is required.\n",
    "\n",
    "```python\n",
    "%matplotlib inline\n",
    "```\n",
    "\n",
    "This first statement is a bit complicated to get into. That \"`%`\" sign at that start of the line makes this a magic command. Magic commands help configure your Jupyter Notebook. No worries about all the details, this line above simply tells the notebook to display the plot inline, below the box of code. Without this line the plot may show up in another window (or not at all, depends on your browser configuration). A good rule of thumb is that if you are plotting, then just add this line as the first line of code in your notebook. We'll dive into more magic commands in the book, they are magic because they tend to make your work so much easier!\n",
    "\n",
    "```python\n",
    "import pandas as pd\n",
    "```\n",
    "\n",
    "Here we add the pandas module for use within our notebook. Pandas is a popular framework for doing almost any kind of work with data. Think of pandas as your replacement for excel. The `as pd` part of the line simply adds an alias. Now instead of using the module's fullname, we can use a shortened `pd`. Coders use alias' to simplify their code. Many of the common modules used in Python will have well known alias'. To follow the convention used by other coders, we recommend that you always import pandas as pd. Just be aware that these two code snippets will function the same:\n",
    "\n",
    "```python\n",
    "import pandas\n",
    "datasheet = pandas.read_excel('http://bit.ly/PyRandom-xls')\n",
    "```\n",
    "\n",
    "```python\n",
    "import pandas as pd\n",
    "datasheet = pd.read_excel('http://bit.ly/PyRandom-xls')\n",
    "```\n",
    "\n",
    "```python\n",
    "datasheet.plot()\n",
    "```\n",
    "\n",
    "This last line is where the interesting stuff happens. We've defined the data in the excel spreadsheet as \"`datasheet`\" in the code. By reading the data using the pandas module (`pd.read_excel()`), it was automatically stored as a pandas dataframe. The easiest way to picture this is to think of the pandas dataframe as Python's version of excel. The dataframe is an extremely powerful data structure that simplifies working with almost any type of data. One of the main benefits of using the dataframe is that it has a lot of built in functions, such as plotting. Our full ebook will be diving into other functions of the dataframe and other plotting modules, but in a majority of cases the built-in plotting of the dataframe is good enough for initial analysis.\n",
    "\n",
    "So what actually happened when that line of code ran? The variable `datasheet` is a dataframe. `plot()` is a function built into the pandas dataframe. By typing `datasheet.plot()` we've said to run the `plot()` function on the `datasheet` dataframe. In this case you may have noticed that a legend was automatically added to the plot. This is because the pandas dataframe was built to simplify your work. Headers were found in the file and pandas automaticlally populates the legend with those headers."
   ]
  },
  {
   "cell_type": "markdown",
   "metadata": {},
   "source": [
    "### Labels, Titles, and Formatting \n",
    "\n",
    "Making the plot above is relatively easy, but it certainly isn't the prettiest plot. Adding some formatting is critical for a good visualization. Luckily, this is straigtforward in Python. As you practice plotting, you'll tend to have many of the basic formatting commands memorized. As your own projects mature, you might even want to build your own plotting module to automate a report.\n",
    "\n",
    "Below we'll focus on just quickly producing an acceptable plot. The full ebook will cover an example that will walk you through building your own plotting module.\n",
    "\n",
    "Here's some updates to those 4 lines of code for that first plot:"
   ]
  },
  {
   "cell_type": "code",
   "execution_count": null,
   "metadata": {
    "scrolled": false
   },
   "outputs": [],
   "source": [
    "%matplotlib inline\n",
    "import pandas as pd\n",
    "import matplotlib.pyplot as plt\n",
    "\n",
    "datasheet = pd.read_excel('http://bit.ly/PyRandom-xls')\n",
    "datasheet.plot(figsize=(14, 10), fontsize=14, grid=True)\n",
    "plt.title('Random Data for Plotting Example', fontsize=18)\n",
    "plt.ylabel('Units (arb.)', fontsize=14)\n",
    "plt.xlabel('Index (arb.)', fontsize=14)\n",
    "plt.legend(fontsize=14);"
   ]
  },
  {
   "cell_type": "markdown",
   "metadata": {},
   "source": [
    "Now that's a lot better! The chart is larger, axes are labled, and the text is readable.\n",
    "\n",
    "First change to note is the additional import statement:\n",
    "\n",
    "```python\n",
    "import matplotlib.pyplot as plt\n",
    "```\n",
    "\n",
    "This time we need to import a plotting module. Note that the first example also used `matplotlib.pyplot`, but since pandas handled all the formatting, there was no need to import the `pyplot` module directly. We'll come back to this below.\n",
    "\n",
    "Next is the call to the `plot()` function. There are some additional instructions that weren't there before.\n",
    "\n",
    "```python\n",
    "datasheet.plot(figsize=(12, 8), fontsize=14, grid=True)\n",
    "```\n",
    "Those added variables inside of the parantheses are called arguments. `figsize`, `fontsize`, and `grid` are arguments that we've decided to manually configure this time. In the first example we just let pandas use the default values. Most arguments are relatively self explanatory. Here we've set the figure size (note that it is `(width,height)` in units of inches), the font size of the x and y tick labels, and enable the grid lines. Functions such as `plot()` have many arguments that can be set to improve your plots. How do you know which arguments are available? An easy way is to just check the reference documentation. Type `pandas plot` into google and the first result will be the documentation for the pandas plot function.\n",
    "\n",
    "Don't worry about all the options for now. The important thing to know is that functions tend to have arguments and being able to look them up is an important skill for working with various modules.\n",
    "\n",
    "```python\n",
    "plt.title('Random Data for Plotting Example', fontsize=18)\n",
    "plt.ylabel('Units (arb.)', fontsize=14)\n",
    "plt.xlabel('Index (arb.)', fontsize=14)\n",
    "plt.legend(fontsize=14);\n",
    "```\n",
    "\n",
    "These four lines are the other formatting options that were added to the plot for readability. This time we are using the `plt` alias to run functions from the `matplotlib.pyplot` module. These functions are self-explanatory. We're adding a title, a x axis label, and a y axis label. As mentioned with the `plot()` function above, there are also a couple of arguments for each of these. The arguments are the text that should be displayed and the fontsize to use. Lastly, the fontsize was also updated for the legend to improve readability. Note that `plt.legend()` could be used to create the legend or change the legend labels, but the dataframe `plot()` function took care of that for us so we only used the fontsize argument here.\n",
    "\n",
    "There might be something bothering you about these last four lines, if so then great! You're paying attention. When we called the `plot()` function, it was used on a variable that we created. `datasheet.plot()` works, but `pd.plot()` would not have worked. So why does `plt.xlabel()` work? A variable was never defined for the `plt` module. This works because the creators of matplotlib.pyplot were trying to mimic the command style behavior that people are familar with in MATLAB. In the background, the matplotlib.pyplot keeps track of the current figure. After calling `datasheet.plot()`, a reference to that figure was created and any call using `plt` will operate on the current figure. Defining the current figure explicitly is possible, but isn't necessary in this simple example. We'll take a look at a case where it is necessary in the next example.\n",
    "\n",
    "Last note is that `;` at the end of the last line. The semicolon here isn't necessary, it just cleans up the output. Feel free to try running this code yourself and delete the semicolon. You'll see an output similar to this: `<matplotlib.legend.Legend at 0x7fcdf36feb38>`. The code at the end will be different for you. This is the return of the `plt.legend()` function. In the Jupyter Notebook, the last function will print to the output if left unassigned. The semicolon is just an easy way to supress this output."
   ]
  },
  {
   "cell_type": "markdown",
   "metadata": {},
   "source": [
    "### Subplots\n",
    "\n",
    "So far we haven't really done anything that isn't relatively easy to do in excel. Hopefully you have found plotting with Python to be easier then you imagined and may even see this as being easier then working with excel (we at Python for the Office certainly do!).\n",
    "\n",
    "Let's look at something that would be much more challenging to quickly do in excel, yet Python can pull off with ease. Sometimes plotting all of your datasets on one plot can be messy and creating seperate plots is the best option. Python allows you to quickly try differing plotting styles with minimum effort. Below we'll take a look at creating subplots."
   ]
  },
  {
   "cell_type": "code",
   "execution_count": null,
   "metadata": {},
   "outputs": [],
   "source": [
    "%matplotlib inline\n",
    "import pandas as pd\n",
    "import matplotlib.pyplot as plt\n",
    "\n",
    "datasheet = pd.read_excel('http://bit.ly/PyRandom-xls')\n",
    "axes = datasheet.plot(subplots=True, figsize=(12, 8), fontsize=14, grid=True)\n",
    "plt.suptitle('Random Data for Plotting Example', fontsize=18)\n",
    "plt.xlabel('Index (arb.)', fontsize=14)\n",
    "\n",
    "for ax in axes:\n",
    "    ax.set_ylabel('Units (arb.)', fontsize=14)\n",
    "    ax.set_ylim(bottom=0, top=2)\n",
    "    ax.legend(fontsize=14)"
   ]
  },
  {
   "cell_type": "markdown",
   "metadata": {},
   "source": [
    "Isn't that awesome! If you don't think that is awesome then please go and try that in excel and rethink your reaction. Of course, this is a really simple random data set, but this should give you a glimpse into how powerful plotting can be with minimal effort in Python.\n",
    "\n",
    "There are a few new lines of code here that should be explained.\n",
    "\n",
    "```python\n",
    "axes = datasheet.plot(subplots=True, figsize=(12, 8), fontsize=14, grid=True)\n",
    "```\n",
    "We did something different with the plot function this time. First, we adding an argument for `subplots`. That is all that was needed to create the three individual plots above. The rest of this example is just formatting. Second, we assigned the output of the `datasheet.plot()` function to a variable called `axes`. This is because we are now working with multiple plots. Above we mentioned that matplotlib.pyplot keeps track of the current figure in the background. In this case it has managed to keep track of the current figure, but that figure now has three plots. If we are trying to format the plots, we need to start keeping track of them ourself.\n",
    "\n",
    "Let's take a look at what the `axes` variable is by printing it to an output:"
   ]
  },
  {
   "cell_type": "code",
   "execution_count": null,
   "metadata": {},
   "outputs": [],
   "source": [
    "axes"
   ]
  },
  {
   "cell_type": "markdown",
   "metadata": {},
   "source": [
    "This is our first look at an array. `axes` is simply a 3 element array where each element is a reference to the individual plots in our figure.\n",
    "\n",
    "```python\n",
    "plt.suptitle('Random Data for Plotting Example', fontsize=18)\n",
    "```\n",
    "\n",
    "The title command had a slight modification. The function is now called `suptitle` instead of just `title`. This is because we are now working with subplots. `title` can still be set, but that will set the individual title of each subplot. Here we simply want to label the figure with a title which can be done with `suptitle` (this is short for super title).\n",
    "\n",
    "The last new addition to our example is the `for` loop. Loops are a fundamental element of all programming languanges and is truly one of the most useful controls in programming. \n",
    "\n",
    "```python\n",
    "for ax in axes:\n",
    "    do something\n",
    "```\n",
    "\n",
    "`for` loops in Python try to mimic language. In this example, `for ax in axes` simply states that for each element in axes we want to do something. Each iteration of the loop will access the next item in `axes` and assign it to the variable `ax`. Recall that `axes` is simply a list of references to each plot in the figure. So this for loop will be used to do something to each plot.\n",
    "\n",
    "```python\n",
    "ax.set_ylabel('Units (arb.)', fontsize=14)\n",
    "```\n",
    "The first action is to add the y axis labels. Note that we were able to use the same call for the x axis labels as we used in the last example because the x axis in this example is shared between all the plots. That means we can use the reference to `plt` to set the x axis label. For each iteration of the loop, the y axis label will be set. Also note that the function is no longer just `ylabel()`, but has changed to `set_ylabel()`. This is because of the `ax` object is different from the `plt` object and has different functions. We won't dive into this here, but just be aware that when working with axis the functions are different from the figure functions. This topic can be confusing for beginners. While this is out of the scope of this guide, this is a topic that will be covered in the full ebook.\n",
    "\n",
    "```python\n",
    "ax.set_ylim(bottom=0, top=2)\n",
    "```\n",
    "\n",
    "Lastly, there is a function call added to change the y axis limits. The default plotting style is to have the y limits automatically set by the data range, but having different scales for each dataset will make visual comparisons challenging. Therefore, by setting each plot to have the same y axis limits, we have made it much easier to see the differences in the datasets. "
   ]
  },
  {
   "cell_type": "markdown",
   "metadata": {},
   "source": [
    "## Part 3: Make Awesome Plots!\n",
    "\n",
    "So far we've shown you that Python is probably easier then you imagined. Learning Python should no longer seem like a time consuming challenge that provides a benefit sometime in the future. The short segments of code above can be used to help you today (or at least the next time you need to make a plot)! \n",
    "\n",
    "These simple plots aren't really the focus of Python for the Office. We want to teach you how to automate your workflow and generate visualizations that will better serve you, your team, or your clients. Part 3 of this introductory material will look at some of the advanced plots that are easy to create and understand using Python.\n",
    "\n",
    "In this section the explanations will not be as detailed. While Part 2 was an example of the material and style of the full ebook, Part 3 is meant to present a few of the more advanced plots that you'll be able to create with a bit more learning. We still try to make the code below understandable and build off of the material presented in Part 2. While these plots certainly look more complicated then the ones above, they really aren't that much harder to create!\n",
    "\n",
    "Part 3 will give you an idea of what is possible. The full ebook will teach you how to make these plot and many more!"
   ]
  },
  {
   "cell_type": "markdown",
   "metadata": {},
   "source": [
    "###  Distributions and Correlations\n",
    "\n",
    "The first set of plots that we'll take a look at are distribution plots. A common analysis for a univariate dataset is to plot a histogram or density plot. A histogram cuts the data into multiple bins and displays a count of the number of values in each bin. Density plots are similar to histograms, but instead of bins they show a continuous distribution of the data.\n",
    "\n",
    "While this is a common plotting techniuqe, trying this is excel can be troublesome. In excel you'll likely need the data analysis add-in and then you'll need to define your own bins. Python has modules, such as `seaborn`, that provide an incredibly easy way to generate a histogram with a density estimate in one plot. \n",
    "\n",
    "The dataset being used for this topic is an engineering dataset and represents a set of experiments run to help control a process. This guide is meant to present the simplicity of plotting in Python, therefore there is no need to worry too much about what the dataset is. Just be aware that making plots with other datasets is just as easy! The full ebook will cover multiple types of data (financial, economic indicators, engineering measurements, and even some map data) and we will provide plenty of pointers on how to wrangle these other data sources. Most of the time the flow is similar to what is presented in this guide. Figure out how to get the data into a pandas dataframe and then use modules like seaborn to generate visualizations. Simple as that!\n",
    "\n",
    "For the dataset used below, there are two independent variables:\n",
    "1. Substrate\n",
    "2. Ag Thickness (nm)\n",
    "\n",
    "Every other column is a type of measurement (aka dependent variables). A common analysis in engineering (and basically every other field) is trying to identify the relationship between the independent variables and dependent variables.\n",
    "\n",
    "First, lets import a few modules that we want to use and load the data:"
   ]
  },
  {
   "cell_type": "code",
   "execution_count": null,
   "metadata": {},
   "outputs": [],
   "source": [
    "%matplotlib inline\n",
    "\n",
    "# matplotlib is the main plotting library and\n",
    "#   is needed to help with formatting the figures\n",
    "import matplotlib.pyplot as plt\n",
    "\n",
    "# Pandas is the dataframe we use to store and work with the data\n",
    "import pandas as pd\n",
    "\n",
    "# Seaborn is a powerful plotting library built on matplotlib.pyplot\n",
    "import seaborn as sns\n",
    "\n",
    "# Note: Warnings is being imported to help clean up the output\n",
    "#      This module doesn't generally need to be imported\n",
    "import warnings; warnings.simplefilter('ignore')\n",
    "\n",
    "\n",
    "nanodata = pd.read_excel('http://bit.ly/PyNanoParticle-xls')"
   ]
  },
  {
   "cell_type": "markdown",
   "metadata": {},
   "source": [
    "There are two new topics that should be discussed before moving on. There is a new module being used called `seaborn` and there are these weird lines starting with `#`.\n",
    "\n",
    "`seaborn` is a plotting library built on top of `matplotlib.pyplot` and you should have noticed that we are using an alias. `sns` is the common alias used for the `seaborn` module. This module tends to make advanced plotting a piece of cake. This module also works very well with the pandas dataframe, as will be presented below.\n",
    "\n",
    "So how about those hashtags? Those represent a one line comment. Any text on a line of code that comes after `#` is a comment and will not be run as code. Comments are simply to help others understand your code and for you to remember what you did when you come back to a piece of code after 3 months (trust me, that happens a lot and you'll hate yourself for not using more comments). Always comment your code! The comments in this section are a bit of overkill. Once you learn more about Python, there isn't a need to have a comment for every import or every function call. Comments tend to be most important for explaning the purpose of a section of code or to mention why code was written in a certain way. This section, and the code in our ebook, will be heavily commented to help with the learning process.\n",
    "\n",
    "There are multiple types of comments that can be used in Python. The first is the hashtag used above:\n",
    "```python\n",
    "# This is a comment\n",
    "```\n",
    "\n",
    "Note that the hastag does not have to be at the start of the line. You can place the comment at the end of a line of code.\n",
    "\n",
    "```python\n",
    "datasheet.plot() # This is a comment\n",
    "```\n",
    "\n",
    "The `datashet.plot()` is from our first example in Part 2, but this time we added a comment on the end. Even though there is a comment on the line, the plot will still be created. Note that the rule is that everything after the `#` is a comment, so if we had the line shown below, the plot would not work.\n",
    "\n",
    "```python\n",
    "# This is a comment datasheet.plot()\n",
    "```\n",
    "Lastly, the `#` is used for single line comments. As was done in import code above, each line of a comment started with a `#`. A multiline comment can also be created by using the three single quotes closed by another three single quotes:\n",
    "\n",
    "```python\n",
    "'''\n",
    "This is a multiline comment. More lines \n",
    "of text can be added until there are \n",
    "another 3 single quotes.\n",
    "'''\n",
    "```"
   ]
  },
  {
   "cell_type": "markdown",
   "metadata": {},
   "source": [
    "#### Violin Plot\n",
    "\n",
    "We've started with a few import statements to prepare for reading and plotting the data. So far not much has happened except for that extremely simple call to load the data with `pd.read_excel()`.\n",
    "\n",
    "The first plot that we'll create is a violin plot. As mentioned above, there are multiple independent variables. When using a violin plot, we can easily group the data into unique sets and then view the relationship between them.\n",
    "\n",
    "You may have used boxplots before to show summary statistics (mean and quartile ranges), a violin plot shows the probability estimate of a numeric dataset. A basic boxplot is just as easy to make, but since the violin plot looks more interesting that's what we've put in the guide. \n",
    "\n",
    "One of the columns in the data is _Feret Diameter (nm)_. This is one of the dependent variables of interest in the dataset. We could have choosen another column to plot, but this one was already known to show a pattern. The ebook will give you a better idea of how to approach new datasets and find variables of interest. In this case, we are focused on creating the plots."
   ]
  },
  {
   "cell_type": "code",
   "execution_count": null,
   "metadata": {},
   "outputs": [],
   "source": [
    "# Create a new figure and set the figure size\n",
    "plt.figure(figsize=(10, 8))\n",
    "\n",
    "# Create the violin plot using seaborn (sns)\n",
    "sns.violinplot(x=\"Ag Thickness (nm)\", y=\"Feret Diameter (nm)\", \n",
    "               hue=\"Substrate\", data=nanodata, split=True)\n",
    "\n",
    "plt.title('Nanoparticle Diameter Distributions', fontsize=20);"
   ]
  },
  {
   "cell_type": "markdown",
   "metadata": {},
   "source": [
    "Just as in Part 2 of this guide, the plotting was done is a single command! There are a couple of formatting instructions, but the majority of the work was done by using `seaborn` (aliased as `sns`). One of the handy features of seaborn is it's ability to automatically add labels. In this case the x and y axes are labeled appropriately because the data columns have descriptive headers. Even better is that a legend for the two different substrates being analyzed was automatically added.\n",
    "\n",
    "Let's breakdown this command a bit:\n",
    "```python\n",
    "sns.violinplot(x=\"Ag Thickness (nm)\", y=\"Feret Diameter (nm)\", \n",
    "               hue=\"Substrate\", data=nanodata, split=True)\n",
    "```\n",
    "`data=nanodata` is the main focus here. We've said that the data that we want to use for the plot is in nanodata. A plot would be created even if you only had this argument in the `sns.violinplot()`. In that case, `seaborn` does its best to create a plot. However, if you have too many columns like in the `nanodata`, then the plot won't be all that useful. So we give seaborn a bit more information to select the data that we want to see, by passing these arguments:\n",
    "```python\n",
    "x=\"Ag Thickness (nm)\", \n",
    "y=\"Feret Diameter (nm)\", \n",
    "hue=\"Substrate\"\n",
    "```\n",
    "Seaborn will automatically select those columns from the dataframe for the correct axes. `x` and `y` are pretty self explanatory, but the `hue` parameter is a bit more special. This is one of those features that really makes seaborn stand out as a powerful plotting module. By setting `hue=\"Substrate\"` we've told seaborn to group the data by the substrate column. That means our `nanodata` dataframe will be grouped by the unique values in the Substrate column, which are _ITO_ and _a-Si_. \n",
    "\n",
    "The last argument is `split=True` and is just there to improve readability. Go ahead, delete that argument and see what happens. You'll simply get 6 separate violin plots instead of the side-by-side configuration above.\n",
    "\n",
    "What did we learn from the violin plot? Two things:\n",
    "1. As the Ag Film Thickness increases, the nanoparticle diameter also increases.\n",
    "2. The ITO substrate has a wider (i.e. less controllable) distbution then the a-Si substrate.\n",
    "\n",
    "With just a few lines of code it was easy to quickly learn something about the data (and have a nice graphic for the boss!)."
   ]
  },
  {
   "cell_type": "markdown",
   "metadata": {},
   "source": [
    "#### Correlation Matrix\n",
    "\n",
    "The next plot is an amazing tool for exploratory data analysis. When starting with a new dataset you may need to quickly identify relationships between variables. A correlation matrix (aka correlogram) allows for the visualization of the interaction between pairs of variables. \n",
    "\n",
    "Seaborn provides a function to quickly produce a correlation matrix called `pairplot()`. This function will create a visualization to show pairwise relationships between variables."
   ]
  },
  {
   "cell_type": "code",
   "execution_count": null,
   "metadata": {},
   "outputs": [],
   "source": [
    "# Create the pair plot using seaborn (sns)\n",
    "sns.pairplot(data=nanodata[nanodata['Substrate']=='a-Si'], \n",
    "             vars=['Feret Diameter (nm)', 'Area', 'Circ.', 'Perim.'], \n",
    "             hue='Ag Thickness (nm)');"
   ]
  },
  {
   "cell_type": "markdown",
   "metadata": {},
   "source": [
    "With one function we've created a matrix of plots! There's even some pretty amazing features going on here. The data was first simplified by just selecting the _a-Si_ substrate data.  \n",
    "\n",
    "```python\n",
    "nanodata[nanodata['Substrate']=='a-Si']\n",
    "```\n",
    "\n",
    "This is an indexing (or slicing) operation. The data has too many variables to plot with a single `pairplot`, so we've reduced the dimension. Remember that the two main experimental factors are _Ag Thickness (nm)_ and _Substrate_. By selecting only _Substrate=a-Si_, the number of factors has been reduced to only _Ag Thickness (nm)_.\n",
    "\n",
    "Indexing is an important part of dealing with data and this is a basic example of how to select a subset of the data. Indexing, grouping, and pivoting are critical tools when working with data and those topics will be an important part of the full ebook.\n",
    "\n",
    "`vars` is a new argument and is simply stating which variables we want to use for the pairwise comparisons. This argument can be left blank and seaborn will add plots for all columns in the dataframe, but those tend to be hard to read because of how much data there is. So by defining a list of columns for `vars`, we've simply reduced the number of plots to create. \n",
    "\n",
    "Lastly, the `hue` argument serves the same purpose as in the vilon plot above. By defining `hue='Ag Thickness (nm)'`, each film thickness displays as a different color. Not only can we see the pairwise relationship between variables, but we can also see that same relationship across the main groups in the data!\n",
    "\n",
    "_Note:\n",
    "This time there is no call to create and set the size of the figure like there was with the violin plot. This is simply because the pair plot is generated with a larger figure size and manually setting it is unnecessary in this case. The command wasn't needed with the violin plot either, but due to the figure being small, it was desireable to increase the size before plotting._"
   ]
  },
  {
   "cell_type": "markdown",
   "metadata": {},
   "source": [
    "#### Distribution Plot with Style\n",
    "\n",
    "The last plot we'll look at with this dataset is a distribution plot with some extra formatting. The critical topic with this data is that we need to understand the distribution of the nanoparticle diameter under the various conditions. So lets create a clean looking plot that clearly shows diameter versus the experimental groups."
   ]
  },
  {
   "cell_type": "code",
   "execution_count": null,
   "metadata": {},
   "outputs": [],
   "source": [
    "# Create the figure and axis handles\n",
    "fig, (ax1, ax2) = plt.subplots(1, 2, figsize=(16, 6))\n",
    "\n",
    "# To simplify the code, grab subsets of the data for each axis\n",
    "# This is the same indexing used in the pairplot example\n",
    "aSi = nanodata[nanodata['Substrate'] == 'a-Si']\n",
    "ito = nanodata[nanodata['Substrate'] == 'ITO']\n",
    "\n",
    "# Set the title for the first axis\n",
    "ax1.set_title('Ag Directly on a-Si', fontsize=14)\n",
    "# Loop over a parameter to create individual distributions\n",
    "for name, group in aSi.groupby('Ag Thickness (nm)'):\n",
    "    sns.distplot(group['Feret Diameter (nm)'], \n",
    "                 label=(str(name) + 'nm Ag'), ax=ax1)\n",
    "\n",
    "# Set the title for the second axis\n",
    "ax2.set_title('10nm ITO Between Ag and a-Si', fontsize=14)\n",
    "# Loop over a parameter to create individual distributions\n",
    "for name, group in ito.groupby('Ag Thickness (nm)'):\n",
    "    sns.distplot(group['Feret Diameter (nm)'], \n",
    "                 label=(str(name) + 'nm Ag'), ax=ax2)\n",
    "\n",
    "\n",
    "# Plot Formatting\n",
    "\n",
    "# Add a main title for the figure\n",
    "fig.suptitle('Nanoparticle Size Distributions', fontsize=20)\n",
    "\n",
    "# For both axes, add a legend and change the limits to improve viewing\n",
    "for ax in [ax1, ax2]:\n",
    "    ax.legend(frameon=True, fontsize=14)\n",
    "    ax.axis([0, 300, 0, 0.03])\n",
    "    ax.grid(True)\n",
    "\n",
    "# Make the text larger to improve readability\n",
    "plt.rcParams.update({'font.size': 14})"
   ]
  },
  {
   "cell_type": "markdown",
   "metadata": {},
   "source": [
    "Now we're ready for a presentation! This is a clean looking plot with a lot of data. Be sure to read the comments in the code. This time we won't walk through every command, but the comments should provide useful tips.\n",
    "\n",
    "```python\n",
    "fig, (ax1, ax2) = plt.subplots(1, 2, figsize=(16, 6))\n",
    "```\n",
    "This command should look familar. It is similar to the plt.figure() command. This time we used `subplots` to create 2 plots in the same figure. This argument says that we want `1` row and `2` columns, then the last argument is our standard `figsize`. Unlike in previous examples, we assigned the output of this command to a few variables. The earlier examples simply called `plt.figure()` and the output was ignored. Remember how in Part 2 (_1.2.2 Labels, Titles, and Formatting_) we mentioned that matplotlib.pyplot will keep track of the current figure for you? Well this time we are doing something a bit more complex and we need to keep track of the figure and axes ourselves. Understanding how to create, store, and manage your axes is a topic that will be covered in much more detail in the ebook. For now just know that the line of code above allows use to access the two plots that are created in the figure.\n",
    "\n",
    "```python\n",
    "for name, group in aSi.groupby('Ag Thickness (nm)'):\n",
    "    do something\n",
    "```\n",
    "\n",
    "Here we've encounted another `for` loop. This `for` loop is much more exciting then the first one because we are using one of the most useful features of `pandas` and that is the `groupby()` function. Similar to how `hue` worked in the earlier seaborn examples, the `groupby()` command will separate the dataframe by the unique values in the entered column. So by using `groupby('Ag Thickness (nm)')`, we are creating subsets of the data for each value in _Ag Thickness (nm)_. The ebook will contain examples of how these dataframes are segmented to help provide a visual understanding of how function like `groupby()` work.\n",
    "\n",
    "The `groupby()` function can then be used with a `for` loop to do an operation on each group of data. When using `groupby()` in this manner, it will return a `name` and the `group`. The name is simply the value of the specified column for the group and the `group` is the subset of data.\n",
    "\n",
    "So if `6`, `8`, and `10` are the unique values in the _Ag Thickness (nm)_ column, then here is an example of the values for one iteration of the `for` loop where the group is for _Ag Thickness (nm)_=6:\n",
    "\n",
    "```python\n",
    "name=6\n",
    "group=aSi[aSi['Ag Thickness (nm)'] == 6]\n",
    "```\n",
    "Notice that the group is simply a subset of the dataframe and is equivalent to using the indexing command presented earlier. As mentioned earlier, grouping, indexing, pivoting, and other data manipulation operations are an important part of analyzing data. These topics tend to be confusing for beginners. This guide isn't meant to provide a full description of these operations, but this is a topic that will be fully covered in the ebook.\n",
    "\n",
    "```python\n",
    "sns.distplot(group['Feret Diameter (nm)'], \n",
    "             label=(str(name) + 'nm Ag'), ax=ax1)\n",
    "```\n",
    "Once again we've used seaborn to make plotting easy. Remember that the `group` variable is a subset of the `aSi` dataframe and by using `group['Feret Diameter (nm)]` we are selecting a single column for plotting. The `distplot()` function doesn't need the `data=` that we used earlier because there is only one variable being plotted. We've also added the `ax=ax1` to tell Python which plot to put the data in. Notice that the next `for` loop uses `ax=ax2`. Lastly, this time we had to modify the label for readability.\n",
    "\n",
    "```python\n",
    "label=(str(name) + 'nm Ag')\n",
    "```\n",
    "The `label` is what will show up in the legend. Here we've built our own label from the `name` variable created by the loop. The `str()` command is a built-in Python function that will convert a number into a string and then we can simply add 2 strings together. String operations are another important set of operations that will be covered in the full ebook.\n",
    "\n",
    "Finally we have a new function:\n",
    "```python\n",
    "plt.rcParams.update({'font.size': 14})\n",
    "```\n",
    "\n",
    "We won't discuss how this function works here, but what you should understand is that this will simply modify the fontsize on the plots built with `matplotlib.pyplot`. Remember that the `seaborn` and `pandas` plotting functions are built on that library, so their fontsize will also change. Keep this command handy when you need to improve the readibility of all your plot labels and titles."
   ]
  },
  {
   "cell_type": "markdown",
   "metadata": {},
   "source": [
    "All the plots above would generally take a lot of coding to make from scratch, or even to build from `matplotlib.pyplot`. The `seaborn` module takes a great deal of the work out of creating complex plots. Labels were automatically added, legends created, and colors set. All of that was done behind the scenes. Of course we added a few minor formatting changes ourselves, but the heavy lifting was done by `seaborn`. That's how it should be. Creating a plot for your data should be easy, then you'll have all the time you need to beautify it for your manager. \n",
    "\n",
    "Check out the [seaborn gallery](https://seaborn.pydata.org/examples/index.html) for more ideas."
   ]
  },
  {
   "cell_type": "markdown",
   "metadata": {},
   "source": [
    "### Working with a Time Series: Financial Data\n",
    "\n",
    "Before finishing the guide, let's use your newfound knowledge to look at another dataset, this time a financial dataset. As we mentioned, the full ebook will be convering a variety of datasets in different formats. Here we just want to prove that Python is also incredibly useful when working with timeseries data, such as the 2018 Dow Jones Industrial Average historical data."
   ]
  },
  {
   "cell_type": "code",
   "execution_count": null,
   "metadata": {},
   "outputs": [],
   "source": [
    "%matplotlib inline\n",
    "\n",
    "# Import pandas and seaborn for data handling and plotting\n",
    "import pandas as pd\n",
    "import seaborn as sns\n",
    "\n",
    "\n",
    "# Read the 2018 dow jones data set into a dataframe\n",
    "dowdata = pd.read_csv('http://bit.ly/DowJones2018')\n",
    "\n",
    "# Change the Date column into time data\n",
    "dowdata['Date'] = pd.to_datetime(dowdata['Date'])\n",
    "\n",
    "# Set the index to the date to make the dataset easier to work with\n",
    "dowdata = dowdata.set_index('Date')\n",
    "\n",
    "\n",
    "# Make the plot text larger to improve readability\n",
    "plt.rcParams.update({'font.size': 14})\n",
    "\n",
    "# Create the figure and define size\n",
    "plt.figure(figsize=(12, 8))\n",
    "\n",
    "# Create the violin plot using seaborn (sns)\n",
    "sns.violinplot(x=dowdata.index.month, y=dowdata['Open'])\n",
    "\n",
    "\n",
    "# Correct a label and add a title\n",
    "plt.ylabel('Open Price (USD)')\n",
    "plt.title('Monthly Dow Jones Industrial Average Open Price Variation');"
   ]
  },
  {
   "cell_type": "markdown",
   "metadata": {},
   "source": [
    "We've just taken a full year of data for the Dow Jones Industrial Average opening price and plotted the variation by month! What's even more impresive is that the bulk of the work was done in these 4 lines of code:\n",
    "\n",
    "```python\n",
    "dowdata = pd.read_csv('http://bit.ly/DowJones2018')\n",
    "dowdata['Date'] = pd.to_datetime(dowdata['Date'])\n",
    "dowdata = dowdata.set_index('Date')\n",
    "sns.violinplot(x=dowdata.index.month, y=dowdata.Open)\n",
    "```\n",
    "\n",
    "Everything else is comments or formatting. Also, this code should look very similar to what you've already encountered. There are a couple new functions which are associated with working on time-based data. \n",
    "\n",
    "```python\n",
    "dowdata['Date'] = pd.to_datetime(dowdata['Date'])\n",
    "```\n",
    "\n",
    "The first new function is `pd.to_datetime()`. This function is pretty much self-explanatory, we are converting something to a `datetime` using the `pandas` module. When the data was read in with `pd.read_csv()`, there was no way for pandas to know that it was a special type of data referred to as `datetime`. So after we read the data, we change the _Date_ column to the `datetime` format using the line of code shown above. This line of code will make working with the _Date_ column a lot easier. The importance of this will be shown in the plotting function.\n",
    "\n",
    "```python\n",
    "dowdata = dowdata.set_index('Date')\n",
    "```\n",
    "\n",
    "Similar to the `datetime` conversion, this `set_index()` function is simply being used to make handling the code easier. When we read the date, `pandas` created an arbitrary index for us. That arbitrary index isn't all that useful, but luckily we can set our own index. An index is used to better organize the data, and in this case we want to use the `Date` as the index column. Note that the ebook will be going into more detail on columns and indexes since they are critical for data handling.\n",
    "\n",
    "```python\n",
    "sns.violinplot(x=dowdata.index.month, y=dowdata['Open'])\n",
    "```\n",
    "\n",
    "This command should look familar, but we did change the arguments a bit. This time we didn't pass a `data` agument and simply passed only the x and y data. `y` is the _Open_ column of the data set, and should look the same as indexing operations that we've done earlier. What we set as `x` is something new and is where our work with the _Date_ column really pays off. `dowdata.index` is a way to select the index column of the dataset. Remember how we used the `set_index()` command earlier? So now by using `dowdata.index`, we are selecting the _Date_. Also, since we did the work to define the _Date_ as a `datetime`, we are abe to do even more. By setting `x=dowdata.index.month`, the data is automattically grouped by the month and seaborn creates a violin plot for each month in the dataset. "
   ]
  },
  {
   "cell_type": "markdown",
   "metadata": {},
   "source": [
    "## Bonus Section: Interacting with the Data\n",
    "\n",
    "We want to leave you with something that is a bit more advanced. Working in Jupyter Notebooks allows you to quickly create a wide variety of incredibly useful plots. There are features beyond just the static plotting examples above. Let's conclude by adding something dynamic.\n",
    "\n",
    "Sorry! No detailed walkthrough on this example. There are some new modules being used and we created a function with the `def` statement. The main function here is that last call to `interact()`. The first argument `update` links the interact session to the `update` function that we defined. The second argument says to run `update` whenever the value of `year_widget` changes and send the new value to the `update` function.\n",
    "\n",
    "Hopefully the rest of this code is starting to look familar and hopefully the walkthroughs have made the code understandable. If you benefited from this guide then the ebook will have you building interactive plots like the one below and so much more!"
   ]
  },
  {
   "cell_type": "code",
   "execution_count": null,
   "metadata": {},
   "outputs": [],
   "source": [
    "%matplotlib inline\n",
    "import pandas as pd\n",
    "import matplotlib.pyplot as plt\n",
    "from ipywidgets import interact\n",
    "import ipywidgets as widgets\n",
    "\n",
    "coffeedata = pd.read_csv('http://bit.ly/icoCoffee')\n",
    "\n",
    "# Format the YEAR to be just the start of the production year\n",
    "coffeedata['YEAR'] = [int(x.split('/')[0]) for x in coffeedata['YEAR']]\n",
    "\n",
    "# Rename the columns that we know we are plotting for formatting\n",
    "coffeedata = coffeedata.rename(columns={\n",
    "    'DOMESTIC_CONSUMPTION':'Domestic Consumption',\n",
    "    'EXPORTABLE_PRODUCTION':'Exportable Production'})\n",
    "\n",
    "\n",
    "# Create a widget to allow for year selection\n",
    "year_widget = widgets.Dropdown(options=coffeedata['YEAR'].unique(), \n",
    "                               value=coffeedata['YEAR'].min(),\n",
    "                               description='Year')\n",
    "\n",
    "# Define a function to call when the year widget is changed\n",
    "def update(val):\n",
    "    # Select the data based on the year\n",
    "    tmp = coffeedata[coffeedata.YEAR == val]\n",
    "    # Filter out Brazil for viewing \n",
    "    # Brazil is produces a lot more then other countries\n",
    "    tmp = tmp[tmp.COUNTRY != 'Brazil']\n",
    "    # Plot the selected data with a stacked bar plot\n",
    "    tmp.plot(x='COUNTRY', y=['Exportable Production', 'Domestic Consumption'], \n",
    "             kind='bar', stacked=True, figsize=(14, 6))\n",
    "\n",
    "    # Format the plot to make it more readable\n",
    "    ax = plt.gca()\n",
    "    ax.set_xlabel('')\n",
    "    ax.set_ylabel('Total Production')\n",
    "    ax.set_ylim(bottom=0, top=18000)\n",
    "    ax.legend(loc='upper right')\n",
    "    plt.title('Coffee Exports and Consumption by Country/nTotal')\n",
    "\n",
    "# Start the interactive plotting by using 'interact'\n",
    "# Interact will call the 'update' function whenever the\n",
    "#    value of the widget is changed. The value of the widget\n",
    "#    will be sent to 'update' as 'val'\n",
    "interact(update, val=year_widget);"
   ]
  },
  {
   "cell_type": "markdown",
   "metadata": {},
   "source": [
    "There it is! An interactive plot! We've added a simple piece of functionality that makes the data much easier to explore. We can now navigate through the years and see how coffee production has changed in each contry. We've even made this a stacked bar plot so we can quickly visualize which countries are exporting most of their coffee versus those that are consuming most of their coffee. "
   ]
  },
  {
   "cell_type": "markdown",
   "metadata": {},
   "source": [
    "# Thanks and Please Provide Feedback!\n",
    "\n",
    "Thanks for reading our short introduction to plotting with Python! If you've made it this far then you are probably interested in the material that we will be producing. Here at _Python for the Office_ we have a broad set of skills and can cover basically anything. We have an idea of what we believe will be most valuable to our readers, but hearing from you directly would be even better. If you have a topic that you are stuggling with, a file that you can't seem to work with, or even a dataset that just seems impossible to wrangle, then please let us know. We want to provide you with useful and practical information so you can start using Python as soon as possible.\n",
    "\n",
    "office@pythonfortheoffice.com"
   ]
  }
 ],
 "metadata": {
  "authors": [
   {
    "name": "Dr. Chanse Hungerford"
   },
   {
    "name": "Matthew Yeager"
   }
  ],
  "kernelspec": {
   "display_name": "Python 3",
   "language": "python",
   "name": "python3"
  },
  "language_info": {
   "codemirror_mode": {
    "name": "ipython",
    "version": 3
   },
   "file_extension": ".py",
   "mimetype": "text/x-python",
   "name": "python",
   "nbconvert_exporter": "python",
   "pygments_lexer": "ipython3",
   "version": "3.7.3"
  },
  "widgets": {
   "application/vnd.jupyter.widget-state+json": {
    "state": {
     "0598f37f1455442e9d9f11a97cd84f65": {
      "model_module": "@jupyter-widgets/output",
      "model_module_version": "1.0.0",
      "model_name": "OutputModel",
      "state": {
       "layout": "IPY_MODEL_22b695d9bfd845b5835727e1fc0bd600",
       "outputs": [
        {
         "data": {
          "image/png": "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\n",
          "text/plain": "<Figure size 1008x432 with 1 Axes>"
         },
         "metadata": {
          "needs_background": "light"
         },
         "output_type": "display_data"
        }
       ]
      }
     },
     "15f02573f4674da5acabb457931ba0fd": {
      "model_module": "@jupyter-widgets/controls",
      "model_module_version": "1.4.0",
      "model_name": "DescriptionStyleModel",
      "state": {
       "description_width": ""
      }
     },
     "22b695d9bfd845b5835727e1fc0bd600": {
      "model_module": "@jupyter-widgets/base",
      "model_module_version": "1.1.0",
      "model_name": "LayoutModel",
      "state": {}
     },
     "a47d72c381794502970380a380a04311": {
      "model_module": "@jupyter-widgets/controls",
      "model_module_version": "1.4.0",
      "model_name": "VBoxModel",
      "state": {
       "_dom_classes": [
        "widget-interact"
       ],
       "children": [
        "IPY_MODEL_d981179159154c939e78cfaef12f6e58",
        "IPY_MODEL_0598f37f1455442e9d9f11a97cd84f65"
       ],
       "layout": "IPY_MODEL_dc8a8c7686ec4f1fade5908ea9db633a"
      }
     },
     "a7fc21a001a449418033223c7a54f638": {
      "model_module": "@jupyter-widgets/base",
      "model_module_version": "1.1.0",
      "model_name": "LayoutModel",
      "state": {}
     },
     "d981179159154c939e78cfaef12f6e58": {
      "model_module": "@jupyter-widgets/controls",
      "model_module_version": "1.4.0",
      "model_name": "DropdownModel",
      "state": {
       "_options_labels": [
        "1990",
        "1991",
        "1992",
        "1993",
        "1994",
        "1995",
        "1996",
        "1997",
        "1998",
        "1999",
        "2000",
        "2001",
        "2002",
        "2003",
        "2004",
        "2005",
        "2006",
        "2007",
        "2008",
        "2009",
        "2010",
        "2011",
        "2012",
        "2013",
        "2014",
        "2015",
        "2016",
        "2017"
       ],
       "description": "Year",
       "index": 0,
       "layout": "IPY_MODEL_a7fc21a001a449418033223c7a54f638",
       "style": "IPY_MODEL_15f02573f4674da5acabb457931ba0fd"
      }
     },
     "dc8a8c7686ec4f1fade5908ea9db633a": {
      "model_module": "@jupyter-widgets/base",
      "model_module_version": "1.1.0",
      "model_name": "LayoutModel",
      "state": {}
     }
    },
    "version_major": 2,
    "version_minor": 0
   }
  }
 },
 "nbformat": 4,
 "nbformat_minor": 2
}
